{
 "cells": [
  {
   "cell_type": "markdown",
   "metadata": {},
   "source": [
    "Implement a routine which sorts singly linked lists efficiently. It should be a stale sort, i.e.e, the relatie positions of equal elements must remain unchnaged."
   ]
  },
  {
   "cell_type": "code",
   "execution_count": 170,
   "metadata": {},
   "outputs": [],
   "source": [
    "class ListNode(object):\n",
    "    def __init__(self, x):\n",
    "        self.val = x\n",
    "        self.next = None\n",
    "        \n",
    "    def __iter__(self):\n",
    "        current = self\n",
    "        while current:\n",
    "            yield current\n",
    "            current = current.next\n",
    "    \n",
    "    def __lt__(self, other):\n",
    "        return self.val < other.val\n",
    "    \n",
    "    def __gt__(self, other):\n",
    "        return self.val > other.val\n",
    "    \n",
    "    def __str__(self):\n",
    "        return str(self.val)"
   ]
  },
  {
   "cell_type": "markdown",
   "metadata": {},
   "source": [
    "A intution solution is to delete the samallest element in this linked list and append to a new list. The time complexity is O(n^2) and the additional space complexity is O(n). To improve the runtime, we can get some idea from the considering arrays. Quicksort is the best all round osrign algorithm for arrays- it runs in time O(N*logN), and is in-place. However, it is not stable. Mergesort appplied to arrays is a stable O(N*logN)algorithm. However, it is not inplace since there is no wayt o merge two sorted haves of an array in-place in the linear time. Unlike array, linked lists can be merged in-place conceptually.\n",
    "\n",
    "Here is the stable sort algorithm using the merge sort solution by divide the whole linked list as two halves and then recusively call the merge sort."
   ]
  },
  {
   "cell_type": "code",
   "execution_count": 171,
   "metadata": {},
   "outputs": [],
   "source": [
    "def merge_two_sorted_lists(L1, L2):\n",
    "    head = tail = ListNode()\n",
    "    while L1 and L2:\n",
    "        if L1.data < L2.data:\n",
    "            tail.next, L1 = L1, L1.next\n",
    "        else:\n",
    "            tail.next, L2 = L2, L2.next\n",
    "        tail = tail.next\n",
    "    tail.next = L1 or L2 # append the rest of longer linkedlist\n",
    "    return head.next"
   ]
  },
  {
   "cell_type": "code",
   "execution_count": 172,
   "metadata": {},
   "outputs": [],
   "source": [
    "def stable_sort_list(L):\n",
    "\n",
    "    # Base cases: L is empty or a single node, nothing to do.\n",
    "    if not L or not L.next:\n",
    "        return L\n",
    "\n",
    "    # Find the midpoint of L using a slow and a fast pointer.\n",
    "    pre_slow, slow, fast = None, L, L\n",
    "    while fast and fast.next:\n",
    "        pre_slow = slow\n",
    "        fast, slow = fast.next.next, slow.next\n",
    "    pre_slow.next = None  # Splits the list into two equal-sized lists.\n",
    "    return merge_two_sorted_lists(stable_sort_list(L), stable_sort_list(slow))"
   ]
  }
 ],
 "metadata": {
  "kernelspec": {
   "display_name": "Python 3",
   "language": "python",
   "name": "python3"
  },
  "language_info": {
   "codemirror_mode": {
    "name": "ipython",
    "version": 3
   },
   "file_extension": ".py",
   "mimetype": "text/x-python",
   "name": "python",
   "nbconvert_exporter": "python",
   "pygments_lexer": "ipython3",
   "version": "3.7.0"
  }
 },
 "nbformat": 4,
 "nbformat_minor": 2
}
