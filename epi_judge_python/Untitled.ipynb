{
 "cells": [
  {
   "cell_type": "code",
   "execution_count": 17,
   "metadata": {},
   "outputs": [],
   "source": [
    "import collections\n",
    "\n",
    "Coordinate = collections.namedtuple('Coordinate', ('x', 'y'))"
   ]
  },
  {
   "cell_type": "code",
   "execution_count": 18,
   "metadata": {},
   "outputs": [],
   "source": [
    "cur = Coordinate(0, 10)"
   ]
  },
  {
   "cell_type": "code",
   "execution_count": 19,
   "metadata": {},
   "outputs": [],
   "source": [
    "m = map(Coordinate, (cur.x - 1, cur.x + 1, cur.x, cur.x),\n",
    "                        (cur.y, cur.y, cur.y - 1, cur.y + 1))"
   ]
  },
  {
   "cell_type": "code",
   "execution_count": 20,
   "metadata": {},
   "outputs": [
    {
     "name": "stdout",
     "output_type": "stream",
     "text": [
      "<map object at 0x1107539e8>\n"
     ]
    }
   ],
   "source": [
    "print(m)"
   ]
  },
  {
   "cell_type": "code",
   "execution_count": 21,
   "metadata": {},
   "outputs": [
    {
     "name": "stdout",
     "output_type": "stream",
     "text": [
      "Coordinate(x=-1, y=10)\n",
      "Coordinate(x=1, y=10)\n",
      "Coordinate(x=0, y=9)\n",
      "Coordinate(x=0, y=11)\n"
     ]
    }
   ],
   "source": [
    "for i in m:\n",
    "    print(i)"
   ]
  },
  {
   "cell_type": "code",
   "execution_count": 22,
   "metadata": {},
   "outputs": [
    {
     "data": {
      "text/plain": [
       "[Coordinate(x=-1, y=10),\n",
       " Coordinate(x=1, y=10),\n",
       " Coordinate(x=0, y=9),\n",
       " Coordinate(x=0, y=11)]"
      ]
     },
     "execution_count": 22,
     "metadata": {},
     "output_type": "execute_result"
    }
   ],
   "source": [
    "[Coordinate(x, y) for (x, y) in zip((cur.x - 1, cur.x + 1, cur.x, cur.x), (cur.y, cur.y, cur.y - 1, cur.y + 1))]"
   ]
  },
  {
   "cell_type": "code",
   "execution_count": 27,
   "metadata": {},
   "outputs": [
    {
     "data": {
      "text/plain": [
       "[Coordinate(x=-1, y=10),\n",
       " Coordinate(x=1, y=10),\n",
       " Coordinate(x=0, y=9),\n",
       " Coordinate(x=0, y=11)]"
      ]
     },
     "execution_count": 27,
     "metadata": {},
     "output_type": "execute_result"
    }
   ],
   "source": [
    "[Coordinate(x, y) for (x, y) in [(cur.x - 1, cur.y), (cur.x + 1, cur.y), (cur.x, cur.y - 1), (cur.x, cur.y + 1)]]"
   ]
  },
  {
   "cell_type": "code",
   "execution_count": 6,
   "metadata": {},
   "outputs": [],
   "source": [
    "s = [\"b\", \"d\", \"c\", \"a\", \"b\", \"a\", \"d\", \"b\", \"d\", \"b\", \"b\", \"a\", \"d\", \"c\", \"c\", \"a\", \"d\", \"a\", \"d\", \"d\", \"d\", \"b\", \"c\", \"c\", \"\", \"\", \"\", \"\", \"\", \"\",\"\", \"\", \"\", \"\", \"\", \"\", \"\", \"\", \"\", \"\", \"\", \"\", \"\", \"\", \"\", \"\", \"\", \"\"]"
   ]
  },
  {
   "cell_type": "code",
   "execution_count": 10,
   "metadata": {},
   "outputs": [],
   "source": [
    "def replace_and_remove(size, s):\n",
    "    # TODO - you fill in here.\n",
    "    result = []\n",
    "    \n",
    "    for c in s[:size]:\n",
    "        if c == 'a': \n",
    "            result.append('dd')\n",
    "        elif c == 'b':\n",
    "            continue\n",
    "        else:\n",
    "            result.append(c)\n",
    "\n",
    "    s = ''.join(result)\n",
    "    return s"
   ]
  },
  {
   "cell_type": "code",
   "execution_count": 11,
   "metadata": {},
   "outputs": [
    {
     "data": {
      "text/plain": [
       "'dcdddddddddccddddddddcc'"
      ]
     },
     "execution_count": 11,
     "metadata": {},
     "output_type": "execute_result"
    }
   ],
   "source": [
    "replace_and_remove(24, s)"
   ]
  },
  {
   "cell_type": "code",
   "execution_count": null,
   "metadata": {},
   "outputs": [],
   "source": []
  }
 ],
 "metadata": {
  "kernelspec": {
   "display_name": "Python 3",
   "language": "python",
   "name": "python3"
  },
  "language_info": {
   "codemirror_mode": {
    "name": "ipython",
    "version": 3
   },
   "file_extension": ".py",
   "mimetype": "text/x-python",
   "name": "python",
   "nbconvert_exporter": "python",
   "pygments_lexer": "ipython3",
   "version": "3.7.0"
  }
 },
 "nbformat": 4,
 "nbformat_minor": 2
}
